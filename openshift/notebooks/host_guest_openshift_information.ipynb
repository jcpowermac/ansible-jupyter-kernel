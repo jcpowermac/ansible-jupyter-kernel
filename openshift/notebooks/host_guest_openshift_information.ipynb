{
 "cells": [
  {
   "cell_type": "markdown",
   "metadata": {},
   "source": [
    "## Ansible Playbook - Host, Guest OS and OpenShift Details\n",
    "\n",
    "On the OpenShift master node:\n",
    "- Login as `system:admin`\n",
    "- Run the following openshift commands:\n",
    "    - oc describe nodes\n",
    "    - oc get pods --all-namespaces\n",
    "    - oc get configmaps --all-namespaces\n",
    "    - oc describe vm --all-namespaces\n",
    "    - oc describe vmi --all-namespaces\n",
    "\n",
    "This playbook will install the following packages:\n",
    "- util-linux\n",
    "- tuned\n",
    "- perf \n",
    "- sysstat \n",
    "- tuna \n",
    "- numactl\n",
    "\n",
    "The execute the following commands the all operating systems:\n",
    "- uname -a\n",
    "- tee /proc/cmdline\n",
    "- lscpu\n",
    "- tuned-adm active"
   ]
  },
  {
   "cell_type": "code",
   "execution_count": null,
   "metadata": {},
   "outputs": [],
   "source": [
    "#inventory\n",
    "[master]\n",
    "node1 ansible_user=root ansible_ssh_pass=password\n",
    "[nodes]\n",
    "node1 ansible_user=root ansible_ssh_pass=password\n",
    "[instances]\n",
    "instance-01 ansible_host=10.130.0.222 ansible_user=cloud-user ansible_ssh_pass=password\n",
    "[os:children]\n",
    "nodes\n",
    "instances"
   ]
  },
  {
   "cell_type": "code",
   "execution_count": null,
   "metadata": {},
   "outputs": [],
   "source": [
    "#play\n",
    "name: OpenShift\n",
    "hosts: master\n",
    "gather_facts: false"
   ]
  },
  {
   "cell_type": "code",
   "execution_count": null,
   "metadata": {},
   "outputs": [],
   "source": [
    "#task\n",
    "file:\n",
    "    dest: \"/opt/app-root/openshift.log\"\n",
    "    state: touch\n",
    "delegate_to: localhost"
   ]
  },
  {
   "cell_type": "code",
   "execution_count": null,
   "metadata": {},
   "outputs": [],
   "source": [
    "#task:\n",
    "command: oc login -u system:admin"
   ]
  },
  {
   "cell_type": "code",
   "execution_count": null,
   "metadata": {},
   "outputs": [],
   "source": [
    "#task\n",
    "command: oc describe nodes\n",
    "register: openshift_output\n",
    "with_items:\n",
    "- oc describe nodes\n",
    "- oc get pods --all-namespaces\n",
    "- oc get configmaps --all-namespaces\n",
    "- oc describe vm --all-namespaces\n",
    "- oc describe vmi --all-namespaces"
   ]
  },
  {
   "cell_type": "code",
   "execution_count": null,
   "metadata": {},
   "outputs": [],
   "source": [
    "#task\n",
    "lineinfile:\n",
    "    line: \"{{ item.stdout }}\"\n",
    "    dest: \"/opt/app-root/openshift.log\"\n",
    "    insertafter: EOF\n",
    "delegate_to: localhost\n",
    "with_items: \"{{ openshift_output.results }}\""
   ]
  },
  {
   "cell_type": "code",
   "execution_count": null,
   "metadata": {},
   "outputs": [],
   "source": [
    "#play\n",
    "name: Extract Information\n",
    "hosts: os\n",
    "gather_facts: false\n",
    "vars:\n",
    "    packages:\n",
    "    - util-linux\n",
    "    - tuned\n",
    "    - perf \n",
    "    - sysstat \n",
    "    - tuna \n",
    "    - numactl "
   ]
  },
  {
   "cell_type": "code",
   "execution_count": null,
   "metadata": {},
   "outputs": [],
   "source": [
    "#task:\n",
    "yum:\n",
    "    name: \"{{ packages }}\"\n",
    "    state: latest\n",
    "become: True"
   ]
  },
  {
   "cell_type": "code",
   "execution_count": null,
   "metadata": {},
   "outputs": [],
   "source": [
    "#task\n",
    "command: \"{{ item }}\"\n",
    "become: True\n",
    "with_items:\n",
    "- uname -a\n",
    "- cat /proc/cmdline\n",
    "- lscpu\n",
    "- tuned-adm active\n",
    "register: output"
   ]
  },
  {
   "cell_type": "code",
   "execution_count": null,
   "metadata": {},
   "outputs": [],
   "source": [
    "#task\n",
    "file:\n",
    "    dest: \"/opt/app-root/{{ inventory_hostname }}.log\"\n",
    "    state: touch\n",
    "delegate_to: localhost"
   ]
  },
  {
   "cell_type": "code",
   "execution_count": null,
   "metadata": {},
   "outputs": [],
   "source": [
    "#task\n",
    "lineinfile:\n",
    "    line: \"{{ item.stdout }}\"\n",
    "    dest: \"/opt/app-root/{{ inventory_hostname }}.log\"\n",
    "    insertafter: EOF\n",
    "delegate_to: localhost\n",
    "with_items: \"{{ output.results }}\""
   ]
  }
 ],
 "metadata": {
  "kernelspec": {
   "display_name": "Ansible",
   "language": "ansible",
   "name": "ansible"
  },
  "language_info": {
   "codemirror_mode": "yaml",
   "file_extension": ".yml",
   "mimetype": "text/yaml",
   "name": "ansible"
  }
 },
 "nbformat": 4,
 "nbformat_minor": 2
}
