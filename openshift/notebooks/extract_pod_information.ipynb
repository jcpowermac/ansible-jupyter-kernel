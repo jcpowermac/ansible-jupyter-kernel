{
 "cells": [
  {
   "cell_type": "markdown",
   "metadata": {},
   "source": [
    "# KubeVirt - Extract Data from virt-launcher pods\n",
    "When running a virtualmachine in Kubernetes (and OpenShift) the libvirtd and qemu process run in a container.  \n",
    "This notebook extracts the logging data out of the pod."
   ]
  },
  {
   "cell_type": "code",
   "execution_count": null,
   "metadata": {},
   "outputs": [],
   "source": [
    "import yaml\n",
    "import ipywidgets as widgets\n",
    "import time\n",
    "import kubernetes\n",
    "from kubernetes.client.rest import ApiException\n",
    "from kubernetes.stream import stream\n",
    "import openshift\n",
    "import urllib3\n",
    "import IPython\n",
    "from IPython.core.display import display, HTML\n",
    "from pygments import highlight\n",
    "from pygments.lexers import XmlLexer\n",
    "from pygments.formatters import HtmlFormatter\n",
    "# Disable the annoying ssl warnings\n",
    "urllib3.disable_warnings()"
   ]
  },
  {
   "cell_type": "markdown",
   "metadata": {},
   "source": [
    "### Authentication\n",
    "The `kubevirt-privileged` token can be used to run this notebook:\n",
    "```\n",
    "oc serviceaccounts get-token kubevirt-privileged -n kube-system\n",
    "```"
   ]
  },
  {
   "cell_type": "code",
   "execution_count": null,
   "metadata": {},
   "outputs": [],
   "source": [
    "auth_form_item_layout = widgets.Layout(display='flex',flex_flow='row',justify_content='space-between')\n",
    "\n",
    "token = widgets.Textarea(value='')\n",
    "namespace = widgets.Text(value='virtualmachine')\n",
    "kube = widgets.Text(value='https://kubernetes.default.svc')\n",
    "auth_button = widgets.Button(description=\"Connect\")\n",
    "\n",
    "form_items= [\n",
    "    widgets.Box([widgets.Label(value='Token'),\n",
    "                token],\n",
    "                layout=auth_form_item_layout),\n",
    "    widgets.Box([widgets.Label(value='Kubernetes URL'), \n",
    "                 kube],\n",
    "                layout=auth_form_item_layout),\n",
    "    widgets.Box([widgets.Label(value='Namespace'), \n",
    "                 namespace],\n",
    "                layout=auth_form_item_layout),\n",
    "    widgets.Box([widgets.Label(value=''),\n",
    "                 auth_button],\n",
    "                layout=auth_form_item_layout),\n",
    "    \n",
    "]\n",
    "auth_form = widgets.Box(form_items, layout=widgets.Layout(\n",
    "    display='flex',\n",
    "    flex_flow='column',\n",
    "    border='solid 2px',\n",
    "    align_items='stretch',\n",
    "    width='80%'\n",
    "))\n",
    "\n",
    "\n",
    "auth_form"
   ]
  },
  {
   "cell_type": "code",
   "execution_count": null,
   "metadata": {},
   "outputs": [],
   "source": [
    "def auth_on_button_clicked(b):\n",
    "    kubernetes_set_configuration()\n",
    "    kubernetes_connect_to_api()\n",
    "    display(create_extract_form())\n",
    "\n",
    "auth_button.on_click(auth_on_button_clicked)"
   ]
  },
  {
   "cell_type": "code",
   "execution_count": null,
   "metadata": {},
   "outputs": [],
   "source": [
    "def kubernetes_set_configuration():\n",
    "    configuration = kubernetes.client.Configuration()\n",
    "    configuration.api_key_prefix['authorization'] = 'Bearer'\n",
    "    configuration.api_key['authorization'] = token.value\n",
    "    configuration.assert_hostname = False\n",
    "    setattr(configuration, 'verify_ssl', False)\n",
    "    setattr(configuration, 'host', kube.value)\n",
    "    kubernetes.client.Configuration.set_default(configuration)\n",
    "    print(\"Kubernetes API configured.\")"
   ]
  },
  {
   "cell_type": "code",
   "execution_count": null,
   "metadata": {},
   "outputs": [],
   "source": [
    "def kubernetes_connect_to_api():\n",
    "    global v1\n",
    "    global custom\n",
    "    try:\n",
    "        v1 = kubernetes.client.CoreV1Api()\n",
    "        custom = kubernetes.client.CustomObjectsApi()\n",
    "        print(\"Kubernetes API objects available.\")\n",
    "    except Exception as e:\n",
    "        print(\"Unknown Error: {0}\".format(e))"
   ]
  },
  {
   "cell_type": "code",
   "execution_count": null,
   "metadata": {},
   "outputs": [],
   "source": [
    "def display_xml_nice(xml):\n",
    "    try:\n",
    "        formatter = HtmlFormatter()\n",
    "        IPython.display.display(HTML('<style type=\"text/css\">{}</style>    {}'.format(formatter.get_style_defs('.highlight'), \n",
    "                                                                  highlight(xml, XmlLexer(), formatter))))\n",
    "    except Exception as e:\n",
    "        print(\"XML: {0}\".format(e))"
   ]
  },
  {
   "cell_type": "code",
   "execution_count": null,
   "metadata": {},
   "outputs": [],
   "source": [
    "def kubernetes_pod_exec(name, namespace, container, command):\n",
    "    stdout = ''\n",
    "    stderr = ''\n",
    "    \n",
    "    try:\n",
    "        exec_command = ['/bin/sh', '-c', command]\n",
    "        resp = stream(v1.connect_get_namespaced_pod_exec, \n",
    "                      name, \n",
    "                      namespace,\n",
    "                      command=exec_command,\n",
    "                      stderr=True, stdin=True,\n",
    "                      stdout=True, tty=False,\n",
    "                      _preload_content=False)\n",
    "        \n",
    "        while resp.is_open():\n",
    "            resp.update(timeout=5)\n",
    "            if resp.peek_stdout():\n",
    "                stdout = resp.read_stdout()\n",
    "                break\n",
    "            if resp.peek_stderr():\n",
    "                stderr = resp.read_stderr()\n",
    "                print(\"Command Error {0}\".format(stderr))\n",
    "                break\n",
    "            else:\n",
    "                time.sleep(5)\n",
    "        \n",
    "        resp.close()\n",
    "        return stdout\n",
    "    except ApiException as e:\n",
    "        print(\"Kubernetes Connection API Error: {0}\".format(e))\n",
    "    except Exception as e:\n",
    "        print(\"Unknown Error: {0}\".format(e))"
   ]
  },
  {
   "cell_type": "code",
   "execution_count": null,
   "metadata": {},
   "outputs": [],
   "source": [
    "def kubevirt_virtualmachine_instances():\n",
    "    try:\n",
    "        group = \"kubevirt.io\"\n",
    "        version = \"v1alpha2\"\n",
    "        virtualmachinenames = []\n",
    "        virtualmachineinstances = custom.list_cluster_custom_object(group, \n",
    "                                                                version, \n",
    "                                                                'virtualmachineinstances', \n",
    "                                                                async_req=False)\n",
    "        return virtualmachineinstances['items']\n",
    "    except Exception as e:\n",
    "        print(\"Unknown Error: {0}\".format(e))\n",
    "    "
   ]
  },
  {
   "cell_type": "code",
   "execution_count": null,
   "metadata": {},
   "outputs": [],
   "source": [
    "def kubevirt_virtualmachines():\n",
    "    try:\n",
    "        group = \"kubevirt.io\"\n",
    "        version = \"v1alpha2\"\n",
    "        virtualmachines = custom.list_cluster_custom_object(group, \n",
    "                                                        version, \n",
    "                                                        'virtualmachines', \n",
    "                                                        async_req=False)\n",
    "        return virtualmachines['items']\n",
    "    except Exception as e:\n",
    "        print(\"Unknown Error: {0}\".format(e))\n",
    "    "
   ]
  },
  {
   "cell_type": "code",
   "execution_count": null,
   "metadata": {},
   "outputs": [],
   "source": [
    "def kubevirt_virtualmachine_cluster_ip(virtualmachine_name, namespace):\n",
    "    try:\n",
    "        pods = v1.list_namespaced_pod(namespace=namespace, \n",
    "                                      label_selector=\"kubevirt.io/domain={0}\".format(virtualmachine_name))\n",
    "        return pods.items[0].status.pod_ip\n",
    "\n",
    "    except Exception as e:\n",
    "        print(\"Unknown Error: {0}\".format(e))\n",
    "    "
   ]
  },
  {
   "cell_type": "code",
   "execution_count": null,
   "metadata": {
    "scrolled": true
   },
   "outputs": [],
   "source": [
    "def kubevirt_extract_data_from_pod(virtualmachine_name, namespace):\n",
    "    commands = []\n",
    "    try:\n",
    "        pods = v1.list_namespaced_pod(namespace=namespace, \n",
    "                                      label_selector=\"kubevirt.io/domain={0}\".format(virtualmachine_name))\n",
    "        \n",
    "        commands.append(\"virsh dumpxml {0}_{1}\".format(namespace, virtualmachine_name) )\n",
    "        commands.append(\"cat /var/log/libvirt/qemu/{0}_{1}.log\".format(namespace, virtualmachine_name))\n",
    "        \n",
    "\n",
    "        for c in commands:\n",
    "            stdout = kubernetes_pod_exec(pods.items[0].metadata.name, namespace, \"compute\", c)\n",
    "            \n",
    "            if c.find(\"xml\"):\n",
    "                display_xml_nice(stdout)\n",
    "                \n",
    "    except Exception as e:\n",
    "        print(\"Unknown Error: {0}\".format(e))"
   ]
  },
  {
   "cell_type": "code",
   "execution_count": null,
   "metadata": {},
   "outputs": [],
   "source": [
    "def kubevirt_create_ansible_inventory(ansible_user, ansible_ssh_pass):\n",
    "    global inventory\n",
    "    inventory = \"[kubevirt]\\n\"\n",
    "    try:\n",
    "        virtualmachine_instances = kubevirt_virtualmachine_instances()\n",
    "    \n",
    "    \n",
    "        for v in virtualmachine_instances:\n",
    "            ip = kubevirt_virtualmachine_cluster_ip(v['metadata']['name'], namespace.value)\n",
    "            inventory += \"{0} ansible_host={1} ansible_user={2} ansible_ssh_pass={3}\\n\".format(\n",
    "                v['metadata']['name'], \n",
    "                ip,\n",
    "                ansible_user,\n",
    "                ansible_ssh_pass\n",
    "            )\n",
    "    except Exception as e:\n",
    "        print(\"Unknown Error: {0}\".format(e))\n",
    "    \n",
    "    %store inventory > hosts.ini"
   ]
  },
  {
   "cell_type": "code",
   "execution_count": null,
   "metadata": {},
   "outputs": [],
   "source": [
    "def extract_on_button_clicked(b):\n",
    "    \n",
    "    kubevirt_create_ansible_inventory(\"cloud-user\", \"r3dh@t2018\")\n",
    "    \n",
    "    try:\n",
    "        for v in extract_select.value:\n",
    "            kubevirt_extract_data_from_pod(v, namespace.value)\n",
    "    except Exception as e:\n",
    "        print(\"Unknown Error: {0}\".format(e))\n",
    "    \n",
    "def create_extract_form():\n",
    "    global extract_select\n",
    "    instances = []\n",
    "    extract_form_item_layout = widgets.Layout(display='flex',flex_flow='row',justify_content='space-between')\n",
    "    extract_button = widgets.Button(description=\"Execute\")\n",
    "    extract_button.on_click(extract_on_button_clicked)\n",
    "    virtualmachine_instances = kubevirt_virtualmachine_instances()\n",
    "    \n",
    "    for v in virtualmachine_instances:\n",
    "        instances.append(v['metadata']['name'])\n",
    "    \n",
    "    extract_select = widgets.SelectMultiple(options=instances)\n",
    "\n",
    "\n",
    "    form_items= [\n",
    "        widgets.Box([widgets.Label(value='Virtual Machines'),\n",
    "                extract_select],\n",
    "                layout=extract_form_item_layout),\n",
    "        widgets.Box([widgets.Label(value=''),\n",
    "                     extract_button],\n",
    "                    layout=extract_form_item_layout),\n",
    "    ]\n",
    "    extract_form = widgets.Box(form_items, layout=widgets.Layout(\n",
    "        display='flex',\n",
    "        flex_flow='column',\n",
    "        border='solid 2px',\n",
    "        align_items='stretch',\n",
    "        width='80%'))\n",
    "    \n",
    "    return extract_form"
   ]
  },
  {
   "cell_type": "markdown",
   "metadata": {},
   "source": [
    "## Sources\n",
    "- https://github.com/kubernetes-client/python/blob/master/examples/exec.py\n",
    "- https://stackoverflow.com/questions/40085818/jupyter-notebook-output-cell-syntax-highlighting"
   ]
  }
 ],
 "metadata": {
  "kernelspec": {
   "display_name": "Python 2",
   "language": "python",
   "name": "python2"
  },
  "language_info": {
   "codemirror_mode": {
    "name": "ipython",
    "version": 2
   },
   "file_extension": ".py",
   "mimetype": "text/x-python",
   "name": "python",
   "nbconvert_exporter": "python",
   "pygments_lexer": "ipython2",
   "version": "2.7.5"
  }
 },
 "nbformat": 4,
 "nbformat_minor": 2
}
